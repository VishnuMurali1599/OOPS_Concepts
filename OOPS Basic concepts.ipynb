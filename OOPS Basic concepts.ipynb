{
 "cells": [
  {
   "cell_type": "markdown",
   "id": "e87da7b3",
   "metadata": {},
   "source": [
    "                                            OOPS"
   ]
  },
  {
   "cell_type": "code",
   "execution_count": null,
   "id": "625e28e7",
   "metadata": {},
   "outputs": [],
   "source": []
  },
  {
   "cell_type": "code",
   "execution_count": 1,
   "id": "ea24f95f",
   "metadata": {},
   "outputs": [],
   "source": [
    "class Vishnu:\n",
    "    pass"
   ]
  },
  {
   "cell_type": "code",
   "execution_count": 3,
   "id": "03b002ac",
   "metadata": {},
   "outputs": [],
   "source": [
    "a=Vishnu"
   ]
  },
  {
   "cell_type": "code",
   "execution_count": 4,
   "id": "00c536b8",
   "metadata": {},
   "outputs": [
    {
     "name": "stdout",
     "output_type": "stream",
     "text": [
      "<class '__main__.Vishnu'>\n"
     ]
    }
   ],
   "source": [
    "print(a)"
   ]
  },
  {
   "cell_type": "code",
   "execution_count": null,
   "id": "e3452794",
   "metadata": {},
   "outputs": [],
   "source": []
  },
  {
   "cell_type": "code",
   "execution_count": 5,
   "id": "ed6bd440",
   "metadata": {},
   "outputs": [],
   "source": [
    "class Vishnu:\n",
    "    \n",
    "    def __init__(self,name,age,dob):\n",
    "        self.name=name\n",
    "        self.age=age\n",
    "        self.dob=dob"
   ]
  },
  {
   "cell_type": "code",
   "execution_count": 6,
   "id": "cc883e3c",
   "metadata": {},
   "outputs": [],
   "source": [
    "Details=Vishnu(\"Vishnu\",24,1999)"
   ]
  },
  {
   "cell_type": "code",
   "execution_count": 10,
   "id": "3724d415",
   "metadata": {},
   "outputs": [
    {
     "data": {
      "text/plain": [
       "'Vishnu'"
      ]
     },
     "execution_count": 10,
     "metadata": {},
     "output_type": "execute_result"
    }
   ],
   "source": [
    "Details.name"
   ]
  },
  {
   "cell_type": "code",
   "execution_count": 11,
   "id": "7d0c31b3",
   "metadata": {},
   "outputs": [
    {
     "data": {
      "text/plain": [
       "24"
      ]
     },
     "execution_count": 11,
     "metadata": {},
     "output_type": "execute_result"
    }
   ],
   "source": [
    "Details.age"
   ]
  },
  {
   "cell_type": "code",
   "execution_count": 12,
   "id": "4926722e",
   "metadata": {},
   "outputs": [
    {
     "data": {
      "text/plain": [
       "1999"
      ]
     },
     "execution_count": 12,
     "metadata": {},
     "output_type": "execute_result"
    }
   ],
   "source": [
    "Details.dob"
   ]
  },
  {
   "cell_type": "code",
   "execution_count": 13,
   "id": "a5a98482",
   "metadata": {},
   "outputs": [],
   "source": [
    "Details.dob=1998"
   ]
  },
  {
   "cell_type": "code",
   "execution_count": 14,
   "id": "4fb2e102",
   "metadata": {},
   "outputs": [
    {
     "data": {
      "text/plain": [
       "1998"
      ]
     },
     "execution_count": 14,
     "metadata": {},
     "output_type": "execute_result"
    }
   ],
   "source": [
    "Details.dob"
   ]
  },
  {
   "cell_type": "code",
   "execution_count": 17,
   "id": "f07af5c9",
   "metadata": {},
   "outputs": [
    {
     "data": {
      "text/plain": [
       "<__main__.Vishnu at 0x1cfd0c7a860>"
      ]
     },
     "execution_count": 17,
     "metadata": {},
     "output_type": "execute_result"
    }
   ],
   "source": [
    "Details"
   ]
  },
  {
   "cell_type": "code",
   "execution_count": null,
   "id": "2617f17b",
   "metadata": {},
   "outputs": [],
   "source": []
  },
  {
   "cell_type": "code",
   "execution_count": 21,
   "id": "ea3992b2",
   "metadata": {},
   "outputs": [],
   "source": [
    "class Vishnu:\n",
    "    \n",
    "    def __init__(self,name,age,dob):\n",
    "        self.name=name\n",
    "        self.age=age\n",
    "        self.dob=dob\n",
    "        \n",
    "    def details(self):\n",
    "        return (\"all details about the vishnu is given\")\n",
    "    "
   ]
  },
  {
   "cell_type": "code",
   "execution_count": 22,
   "id": "7f004511",
   "metadata": {},
   "outputs": [],
   "source": [
    "a=Vishnu(\"vishnu\",24,1999)"
   ]
  },
  {
   "cell_type": "code",
   "execution_count": 23,
   "id": "63ad50cf",
   "metadata": {},
   "outputs": [
    {
     "data": {
      "text/plain": [
       "'all details about the vishnu is given'"
      ]
     },
     "execution_count": 23,
     "metadata": {},
     "output_type": "execute_result"
    }
   ],
   "source": [
    "a.details()"
   ]
  },
  {
   "cell_type": "code",
   "execution_count": null,
   "id": "9cdaeaff",
   "metadata": {},
   "outputs": [],
   "source": []
  },
  {
   "cell_type": "code",
   "execution_count": 24,
   "id": "60963f49",
   "metadata": {},
   "outputs": [
    {
     "name": "stdout",
     "output_type": "stream",
     "text": [
      "Normal weight 24.8109640831758\n"
     ]
    }
   ],
   "source": [
    "class BMI_Calculator():\n",
    "    \n",
    "    #constuctor\n",
    "    \n",
    "    def __init__(self,weight,height):\n",
    "        self.weight=weight\n",
    "        self.height=height\n",
    "        \n",
    "    def bmi(self):\n",
    "        BMI=self.weight/(self.height*self.height)\n",
    "        \n",
    "        if BMI <=18.5:\n",
    "            print(\"under weight\",BMI)\n",
    "        elif BMI>=18.5 and BMI <=24.99:\n",
    "            print(\"Normal weight\",BMI)\n",
    "        elif BMI>=25 and BMI<=29.99:\n",
    "            print(\"over weight\",BMI)\n",
    "        else:\n",
    "            print(\"Obesity\",BMI)\n",
    "\n",
    "a=BMI_Calculator(84,1.84)    \n",
    "\n",
    "(a.bmi())"
   ]
  },
  {
   "cell_type": "code",
   "execution_count": null,
   "id": "11b0c80e",
   "metadata": {},
   "outputs": [],
   "source": []
  },
  {
   "cell_type": "code",
   "execution_count": 25,
   "id": "deb3a599",
   "metadata": {},
   "outputs": [
    {
     "name": "stdout",
     "output_type": "stream",
     "text": [
      "1800\n"
     ]
    }
   ],
   "source": [
    "class Rectangle:\n",
    "    def __init__(self,width,height):\n",
    "        self.width=width\n",
    "        self.height=height\n",
    "        \n",
    "    def Calulate_perimiter(self):\n",
    "        \n",
    "        Perimter=2*(self.width+self.height)\n",
    "        \n",
    "        print(Perimter)\n",
    "\n",
    "#Rectangle=Rectangle(100,100)\n",
    "\n",
    "#Rectangle.Calulate_perimiter()\n",
    "        \n",
    "        \n",
    "    \n",
    "a=Rectangle(250,650)   \n",
    "\n",
    "a.Calulate_perimiter()\n",
    "        "
   ]
  },
  {
   "cell_type": "code",
   "execution_count": null,
   "id": "8cb73765",
   "metadata": {},
   "outputs": [],
   "source": []
  },
  {
   "cell_type": "code",
   "execution_count": 26,
   "id": "e700a0c1",
   "metadata": {},
   "outputs": [
    {
     "name": "stdout",
     "output_type": "stream",
     "text": [
      "the employee new salary 55000.0\n",
      "the employee new salary 715000.0\n"
     ]
    }
   ],
   "source": [
    "class Employee:\n",
    "    \n",
    "    def __init__(self,name,position,salary):\n",
    "        self.name=name\n",
    "        self.position=position\n",
    "        self.salary=salary\n",
    "        \n",
    "    def calculate_bonous(self):\n",
    "        bonous=0.1  #10% of employee salary\n",
    "        New_Salary=(bonous*self.salary)+self.salary\n",
    "        \n",
    "        return New_Salary\n",
    "    \n",
    "Emp=Employee(\"vishnu\",\"manager\",50000)\n",
    "Emp1=Employee(\"smitha\",\"CEO\",650000)\n",
    "\n",
    "print(\"the employee new salary\", Emp.calculate_bonous())\n",
    "print(\"the employee new salary\", Emp1.calculate_bonous())"
   ]
  },
  {
   "cell_type": "code",
   "execution_count": null,
   "id": "756f7b0a",
   "metadata": {},
   "outputs": [],
   "source": []
  },
  {
   "cell_type": "code",
   "execution_count": 28,
   "id": "329c247c",
   "metadata": {},
   "outputs": [
    {
     "name": "stdout",
     "output_type": "stream",
     "text": [
      "wlecome to this AI world Vishnu\n"
     ]
    }
   ],
   "source": [
    "class Book:\n",
    "    \n",
    "    def __init__(self,name,gender):\n",
    "        self.name=name\n",
    "        self.gender=gender\n",
    "        \n",
    "    def greet(self):\n",
    "        print(f\"wlecome to this AI world {self.name}\")\n",
    "        \n",
    "Person=Book(\"Vishnu\",\"male\")\n",
    "\n",
    "(Person.greet())"
   ]
  },
  {
   "cell_type": "code",
   "execution_count": null,
   "id": "3ea5b198",
   "metadata": {},
   "outputs": [],
   "source": []
  },
  {
   "cell_type": "code",
   "execution_count": 29,
   "id": "48201385",
   "metadata": {},
   "outputs": [
    {
     "name": "stdout",
     "output_type": "stream",
     "text": [
      "1999\n",
      "ybm\n",
      "vishnusslc\n",
      "<class 'NoneType'>\n"
     ]
    }
   ],
   "source": [
    "class Students :\n",
    "    \n",
    "    def __init__(vish,name,age,dob,palce,standard):\n",
    "        vish.name=name\n",
    "        vish.age=age\n",
    "        vish.dob1=dob\n",
    "        vish.palce=palce\n",
    "        vish.standard=standard\n",
    "        \n",
    "_1=Students(\"vishnu\",16,1999,\"mlm\",\"sslc\")  \n",
    "_2=Students(\"anoopp\",17,1998,'ybm',\"9th\")\n",
    "\n",
    "#concationation of name and placea\n",
    "\n",
    "print(_1.dob1)\n",
    "print(_2.palce)\n",
    "a=print(_1.name+_1.standard)\n",
    "print(type(a))"
   ]
  },
  {
   "cell_type": "code",
   "execution_count": null,
   "id": "5f842031",
   "metadata": {},
   "outputs": [],
   "source": []
  },
  {
   "cell_type": "code",
   "execution_count": 30,
   "id": "23b762a0",
   "metadata": {},
   "outputs": [
    {
     "name": "stdout",
     "output_type": "stream",
     "text": [
      "The engine has started\n"
     ]
    }
   ],
   "source": [
    "class Car :\n",
    "    \n",
    "    def __init__(self,make,model,year):\n",
    "        self.make1=make\n",
    "        self.model1=model\n",
    "        self.year1=year\n",
    "        \n",
    "    def start_engine(self):\n",
    "        return \"The engine has started\"\n",
    "    \n",
    "Car1=Car(\"tata\",\"indica\",2000)\n",
    "\n",
    "#print(Car1.make1)\n",
    "print(Car1.start_engine())"
   ]
  },
  {
   "cell_type": "code",
   "execution_count": null,
   "id": "b78ccaa2",
   "metadata": {},
   "outputs": [],
   "source": []
  },
  {
   "cell_type": "code",
   "execution_count": 35,
   "id": "3f4be4dd",
   "metadata": {},
   "outputs": [
    {
     "name": "stdout",
     "output_type": "stream",
     "text": [
      "tell me your dob1999\n"
     ]
    },
    {
     "data": {
      "text/plain": [
       "24"
      ]
     },
     "execution_count": 35,
     "metadata": {},
     "output_type": "execute_result"
    }
   ],
   "source": [
    "'''CLASSES CREATED WITHOUT CONSTRUCTOR'''\n",
    "\n",
    "class person:\n",
    "    \n",
    "    def age(self,currentyear,dob):\n",
    "        return dob-currentyear\n",
    "    \n",
    "    def emailid_input(self,emailid):\n",
    "        print(\"take a mail aid from person and print it\",emailid)\n",
    "        \n",
    "    def ask_name(self):\n",
    "        name=input(\"tell me your name \")\n",
    "        return name\n",
    "        \n",
    "    def ask_dob(self):\n",
    "        dob=input(\"tell me your dob\")\n",
    "        return dob\n",
    "    \n",
    "    \n",
    "vishnu=person()\n",
    "santosh=person() \n",
    "veena=person()\n",
    "\n",
    "\n",
    "\n",
    "#vishnu.emailid_input(\"vishnumurali@gmail\")\n",
    "    \n",
    "vishnu.ask_dob()\n",
    "vishnu.age(1999,2023)\n",
    "\n"
   ]
  },
  {
   "cell_type": "code",
   "execution_count": null,
   "id": "61c7a6db",
   "metadata": {},
   "outputs": [],
   "source": []
  },
  {
   "cell_type": "code",
   "execution_count": 36,
   "id": "449cda62",
   "metadata": {},
   "outputs": [
    {
     "name": "stdout",
     "output_type": "stream",
     "text": [
      "625\n"
     ]
    }
   ],
   "source": [
    "class Rectangle:\n",
    "    \n",
    "    def __init__(self,width,height):\n",
    "        self.width=width\n",
    "        self.height=height\n",
    "        \n",
    "        \n",
    "    def area(self):\n",
    "        area=self.width*self.height\n",
    "        return area\n",
    "    \n",
    "a=Rectangle(25,25)\n",
    "print(a.area())"
   ]
  },
  {
   "cell_type": "code",
   "execution_count": null,
   "id": "450edb77",
   "metadata": {},
   "outputs": [],
   "source": []
  },
  {
   "cell_type": "code",
   "execution_count": 38,
   "id": "d38c10cb",
   "metadata": {},
   "outputs": [
    {
     "name": "stdout",
     "output_type": "stream",
     "text": [
      "the student name is vishnu and student age is 25\n",
      "the student name is kiran and student age is 26\n"
     ]
    }
   ],
   "source": [
    "class student:\n",
    "    \n",
    "    def __init__(self,name,age):\n",
    "        self.name=name\n",
    "        self.age=age\n",
    "        \n",
    "    def info(self):\n",
    "        print(f\"the student name is {self.name} and student age is {self.age}\")\n",
    "        \n",
    "    \n",
    "a=student('vishnu',25)\n",
    "b=student('veena',22)\n",
    "c=student('kiran',26)\n",
    "\n",
    "(a.info())\n",
    "(c.info())"
   ]
  },
  {
   "cell_type": "code",
   "execution_count": null,
   "id": "30aaa7ec",
   "metadata": {},
   "outputs": [],
   "source": []
  },
  {
   "cell_type": "code",
   "execution_count": 60,
   "id": "f7ce0b9e",
   "metadata": {},
   "outputs": [],
   "source": [
    "class Bank_account:\n",
    "    \n",
    "    def __init__(self,accno,balance):\n",
    "        self.accno=accno\n",
    "        self.balance=balance\n",
    "          \n",
    "    def deposits(self,deposits):\n",
    "        Balance=deposits+self.balance\n",
    "        \n",
    "        return Balance\n",
    "    \n",
    "    def withdraw(self,withdraw):\n",
    "        New_Balance=self.balance-withdraw\n",
    "        \n",
    "        return New_Balance\n",
    "    \n",
    "a=Bank_account(2525,100000)"
   ]
  },
  {
   "cell_type": "code",
   "execution_count": 61,
   "id": "f1191a04",
   "metadata": {},
   "outputs": [
    {
     "name": "stdout",
     "output_type": "stream",
     "text": [
      "the total balance in my account 100000\n",
      "My new balance wiil be 125000\n",
      "after withdrwaing amount the balance is  90000\n"
     ]
    }
   ],
   "source": [
    "print(\"the total balance in my account\",a.balance)\n",
    "\n",
    "print(\"My new balance wiil be\",(a.deposits(25000)))\n",
    "\n",
    "print(\"after withdrwaing amount the balance is \",a.withdraw(10000,))"
   ]
  },
  {
   "cell_type": "code",
   "execution_count": null,
   "id": "df8c9c36",
   "metadata": {},
   "outputs": [],
   "source": []
  },
  {
   "cell_type": "code",
   "execution_count": null,
   "id": "38592385",
   "metadata": {},
   "outputs": [],
   "source": []
  }
 ],
 "metadata": {
  "kernelspec": {
   "display_name": "Python 3 (ipykernel)",
   "language": "python",
   "name": "python3"
  },
  "language_info": {
   "codemirror_mode": {
    "name": "ipython",
    "version": 3
   },
   "file_extension": ".py",
   "mimetype": "text/x-python",
   "name": "python",
   "nbconvert_exporter": "python",
   "pygments_lexer": "ipython3",
   "version": "3.10.9"
  }
 },
 "nbformat": 4,
 "nbformat_minor": 5
}
